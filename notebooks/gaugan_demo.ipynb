{
 "cells": [
  {
   "cell_type": "code",
   "execution_count": null,
   "metadata": {},
   "outputs": [],
   "source": [
    "import sys\n",
    "sys.path.append(\"..\")\n",
    "\n",
    "import numpy as np\n",
    "from gaugan import PairedTranslationDataLoader, utils"
   ]
  },
  {
   "cell_type": "code",
   "execution_count": null,
   "metadata": {},
   "outputs": [],
   "source": [
    "data_loader = PairedTranslationDataLoader()\n",
    "train_dataset, val_dataset = data_loader.get_datasets(dataset_path=\"../facades/\")"
   ]
  },
  {
   "cell_type": "code",
   "execution_count": null,
   "metadata": {},
   "outputs": [],
   "source": [
    "image, segmentation_map, one_hot_encoded_labels = next(iter(train_dataset))\n",
    "print(\"image shape:\", image.shape)\n",
    "print(\"segmentation_map shape:\", segmentation_map.shape)\n",
    "print(\"one_hot_encoded_labels shape:\", one_hot_encoded_labels.shape)"
   ]
  },
  {
   "cell_type": "code",
   "execution_count": null,
   "metadata": {},
   "outputs": [],
   "source": [
    "image, segmentation_map, one_hot_encoded_labels = next(iter(val_dataset))\n",
    "print(\"image shape:\", image.shape)\n",
    "print(\"segmentation_map shape:\", segmentation_map.shape)\n",
    "print(\"one_hot_encoded_labels shape:\", one_hot_encoded_labels.shape)"
   ]
  },
  {
   "cell_type": "code",
   "execution_count": null,
   "metadata": {},
   "outputs": [],
   "source": [
    "sample_image = (image.numpy()[0] + 1) * 127.5\n",
    "sample_segmentation_map = (segmentation_map.numpy()[0] + 1) * 127.5\n",
    "sample_one_hot_encoded_labels = one_hot_encoded_labels.numpy()[0]\n",
    "\n",
    "utils.plot_results([sample_image.astype(np.uint8), sample_segmentation_map.astype(np.uint8)], [\"Image\", \"Segmentation Map\"])"
   ]
  },
  {
   "cell_type": "code",
   "execution_count": null,
   "metadata": {},
   "outputs": [],
   "source": []
  }
 ],
 "metadata": {
  "interpreter": {
   "hash": "11fc4214f790c6abda23dbaef7524d4336d94ba9c60c08048c1ffaa4ac68935b"
  },
  "kernelspec": {
   "display_name": "Python 3.8.10 64-bit ('venv': venv)",
   "language": "python",
   "name": "python3"
  },
  "language_info": {
   "codemirror_mode": {
    "name": "ipython",
    "version": 3
   },
   "file_extension": ".py",
   "mimetype": "text/x-python",
   "name": "python",
   "nbconvert_exporter": "python",
   "pygments_lexer": "ipython3",
   "version": "3.8.0"
  },
  "orig_nbformat": 4
 },
 "nbformat": 4,
 "nbformat_minor": 2
}
